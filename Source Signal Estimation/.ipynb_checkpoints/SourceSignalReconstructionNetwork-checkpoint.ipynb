{
 "cells": [
  {
   "cell_type": "markdown",
   "id": "a0217a2a-4120-4c83-858e-9c53f8e8eeba",
   "metadata": {},
   "source": [
    "# Reconstruct source signal using a neural network"
   ]
  },
  {
   "cell_type": "markdown",
   "id": "c82a4909-f327-472f-9722-0dbacb16ac2a",
   "metadata": {},
   "source": [
    "## Import the data"
   ]
  },
  {
   "cell_type": "code",
   "execution_count": 18,
   "id": "4cfbf125-c6d0-4f6f-90a8-3ae396676154",
   "metadata": {},
   "outputs": [],
   "source": [
    "#imports\n",
    "import numpy as np\n",
    "import pandas as pd\n",
    "import matplotlib.pyplot as plt\n",
    "import os\n",
    "from PIL import Image\n",
    "\n",
    "#image size\n",
    "imgsz1 = 4999\n",
    "imgsz2 = 1201\n",
    "\n",
    "#set the image size (flattened)\n",
    "flatImgSize = imgsz1*imgsz2\n",
    " \n",
    "#get lists of all positive and negative files\n",
    "imgpath = \"C://Users//yohan//Documents//Research//PHD - Muller//Bat Acoustics//Array Acoustic Ray tracing//Generated Spec Images\"\n",
    "imglist = os.listdir(imgpath)\n",
    "\n",
    "#hold all the spectrogram images\n",
    "allimgs = np.empty([len(imglist), flatImgSize, 30], dtype=np.uint8)\n",
    "\n",
    "#hold all the source spectrogram images\n",
    "sourceimg = np.empty([len(imglist), flatImgSize], dtype=np.uint8)\n",
    "\n",
    "#for each directory, grab the list of images and then \n",
    "for i in range(len(imglist)):\n",
    "    #get all the images in each folder\n",
    "    files = os.listdir(imgpath + \"//\" + imglist[i])\n",
    "    \n",
    "    #loop through the images\n",
    "    numImStored = 0\n",
    "    for j in range(len(files)):\n",
    "        \n",
    "        #if the name is '31.jpg' then save it in the seperate array\n",
    "        if files[j] == '31.jpg':\n",
    "            img31 = Image.open(imgpath + \"//\" + imglist[i] + \"//\" + files[j]).convert('L')\n",
    "    \n",
    "            #flatten and store\n",
    "            img31 = img31.resize([imgsz1, imgsz2])\n",
    "            img31 = np.reshape(img31,[1, flatImgSize])\n",
    "            sourceimg[i,:] = img31\n",
    "        else:\n",
    "            #store the image regularly\n",
    "            img = Image.open(imgpath + \"//\" + imglist[i] + \"//\" + files[j]).convert('L')\n",
    "    \n",
    "            #flatten and store\n",
    "            img = img.resize([imgsz1, imgsz2])\n",
    "            img = np.reshape(img,[1, flatImgSize])\n",
    "            allimgs[i,:,numImStored] = img\n",
    "            numImStored = numImStored + 1\n",
    "         "
   ]
  },
  {
   "cell_type": "code",
   "execution_count": 28,
   "id": "45cbe70d-4ee7-4f9a-b5b4-99f64ca260b0",
   "metadata": {},
   "outputs": [
    {
     "data": {
      "text/plain": [
       "<matplotlib.image.AxesImage at 0x2058bbc66d0>"
      ]
     },
     "execution_count": 28,
     "metadata": {},
     "output_type": "execute_result"
    },
    {
     "data": {
      "image/png": "[encoded data removed]",
      "text/plain": [
       "<Figure size 640x480 with 1 Axes>"
      ]
     },
     "metadata": {},
     "output_type": "display_data"
    }
   ],
   "source": [
    "#show an image\n",
    "plt.imshow(np.reshape(allimgs[0,:,0],[imgsz2,imgsz1]), cmap ='gray')"
   ]
  },
  {
   "cell_type": "code",
   "execution_count": null,
   "id": "ab821c12-1ece-4c81-9ce3-77d951c41bb1",
   "metadata": {},
   "outputs": [],
   "source": [
    "\n"
   ]
  },
  {
   "cell_type": "markdown",
   "id": "8e49c125-2efc-4247-87be-5cea52a8b3f2",
   "metadata": {},
   "source": [
    "## Convert the image data to the pytorch format"
   ]
  },
  {
   "cell_type": "code",
   "execution_count": 23,
   "id": "98406d42-4394-494f-9c01-ddbafb29b0ec",
   "metadata": {},
   "outputs": [],
   "source": [
    "import torch\n",
    "import torch.nn.functional as F\n",
    "\n",
    "X_train = allimgs\n",
    "\n",
    "#normalize\n",
    "X_train = X_train/255\n",
    "#convert to torch tensor\n",
    "X_trainf = torch.from_numpy(X_train).float()\n",
    "#convert to 4D tensor (should already be in that shape)\n",
    "#X_train = X_trainf.view(-1,1,pixdim,pixdim)"
   ]
  },
  {
   "cell_type": "code",
   "execution_count": null,
   "id": "b212f789-1e2e-47c8-b591-ee71a8f90fd3",
   "metadata": {},
   "outputs": [],
   "source": []
  }
 ],
 "metadata": {
  "kernelspec": {
   "display_name": "Python 3 (ipykernel)",
   "language": "python",
   "name": "python3"
  },
  "language_info": {
   "codemirror_mode": {
    "name": "ipython",
    "version": 3
   },
   "file_extension": ".py",
   "mimetype": "text/x-python",
   "name": "python",
   "nbconvert_exporter": "python",
   "pygments_lexer": "ipython3",
   "version": "3.8.10"
  }
 },
 "nbformat": 4,
 "nbformat_minor": 5
}
